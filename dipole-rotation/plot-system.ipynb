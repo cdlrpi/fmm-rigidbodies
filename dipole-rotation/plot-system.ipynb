{
 "metadata": {
  "name": "",
  "signature": "sha256:e55dff68e23a4e460b5d7334f7829656c1cb9d6d10b039a8cb31f848775529ab"
 },
 "nbformat": 3,
 "nbformat_minor": 0,
 "worksheets": [
  {
   "cells": [
    {
     "cell_type": "code",
     "collapsed": false,
     "input": [
      "# import modules\n",
      "import numpy as np\n",
      "import scipy as sc\n",
      "import matplotlib.pyplot as plt\n",
      "\n",
      "from scipy import misc\n",
      "from scipy import special\n",
      "from matplotlib.ticker import MultipleLocator, FormatStrFormatter"
     ],
     "language": "python",
     "metadata": {},
     "outputs": [],
     "prompt_number": 1
    },
    {
     "cell_type": "code",
     "collapsed": false,
     "input": [
      "%matplotlib inline\n",
      "# %pdb"
     ],
     "language": "python",
     "metadata": {},
     "outputs": [],
     "prompt_number": 2
    },
    {
     "cell_type": "markdown",
     "metadata": {},
     "source": [
      "###Functions and Classes Needed for Charged Rigid Bodies"
     ]
    },
    {
     "cell_type": "code",
     "collapsed": false,
     "input": [
      "# define roation matrix ccw positive (planar about 3rd axis)\n",
      "# Note: this transforms A to B\n",
      "def DCM(theta):\n",
      "    C = np.array([[np.cos(theta), -np.sin(theta), 0],\n",
      "                  [np.sin(theta),  np.cos(theta), 0],\n",
      "                  [0, 0, 1]])\n",
      "    return C"
     ],
     "language": "python",
     "metadata": {},
     "outputs": [],
     "prompt_number": 3
    },
    {
     "cell_type": "code",
     "collapsed": false,
     "input": [
      "# varialbes\n",
      "# amount of rotation \n",
      "zeta = 45*np.pi/180\n",
      "\n",
      "# number of terms in the multipole expansion\n",
      "p = 3\n",
      "\n",
      "# distance\n",
      "d = 2"
     ],
     "language": "python",
     "metadata": {},
     "outputs": [],
     "prompt_number": 4
    },
    {
     "cell_type": "markdown",
     "metadata": {},
     "source": [
      "###Describe the problem"
     ]
    },
    {
     "cell_type": "markdown",
     "metadata": {},
     "source": [
      "##### Assign charge values and position vectors (Oxygen at origin)"
     ]
    },
    {
     "cell_type": "code",
     "collapsed": false,
     "input": [
      "# characteristic length        \n",
      "a = 1\n",
      "\n",
      "# describe anglular location of hydrogens \n",
      "# theta = 109.5/2*np.pi/180\n",
      "# psi = -(np.pi/2 - theta)\n",
      "# phi = 3/2*np.pi - theta\n",
      "\n",
      "# charge values [O H H]\n",
      "q = [1, -1]\n",
      "\n",
      "# location of charges w.r.t origin\n",
      "roq =  np.array([[-a/2, 0, 0],\n",
      "                 [ a/2, 0, 0],\n",
      "                 [   0, 0, 0]])"
     ],
     "language": "python",
     "metadata": {},
     "outputs": [],
     "prompt_number": 5
    },
    {
     "cell_type": "markdown",
     "metadata": {},
     "source": [
      "##### Compute the center of charge and locate particles w.r.t. center of charge"
     ]
    },
    {
     "cell_type": "code",
     "collapsed": false,
     "input": [
      "rocq = np.sum([abs(q)*r for q,r in zip(q,roq)],0)/np.sum(np.abs(q))\n",
      "rcq_q = np.array([rq - rocq for rq in roq])\n",
      "# print(rocq)\n",
      "# print()\n",
      "# print(rcq_q)"
     ],
     "language": "python",
     "metadata": {},
     "outputs": [],
     "prompt_number": 6
    },
    {
     "cell_type": "code",
     "collapsed": false,
     "input": [
      "from mpl_toolkits.mplot3d import Axes3D\n",
      "from mpl_toolkits.mplot3d import proj3d\n",
      "from matplotlib.patches import FancyArrowPatch\n",
      "\n",
      "# Classes needed for arrow plotting\n",
      "class Arrow3D(FancyArrowPatch):\n",
      "    def __init__(self, xs, ys, zs, *args, **kwargs):\n",
      "        FancyArrowPatch.__init__(self, (0,0), (0,0), *args, **kwargs)\n",
      "        self._verts3d = xs, ys, zs\n",
      "\n",
      "    def draw(self, renderer):\n",
      "        xs3d, ys3d, zs3d = self._verts3d\n",
      "        xs, ys, zs = proj3d.proj_transform(xs3d, ys3d, zs3d, renderer.M)\n",
      "        self.set_positions((xs[0],ys[0]),(xs[1],ys[1]))\n",
      "        FancyArrowPatch.draw(self, renderer)\n",
      "\n",
      "# array of rotation increments\n",
      "angle = np.array([0, zeta, 2*zeta, 3*zeta])\n",
      "\n",
      "# water orientation 'A'\n",
      "rcq_qa = rcq_q\n",
      "\n",
      "# system 'B' by rotating system 'A'\n",
      "CAB = DCM(zeta)\n",
      "rcq_qbT = np.dot(CAB,rcq_qa.T)\n",
      "rcq_qb = rcq_qbT.T\n",
      "\n",
      "# system 'C' by rotating system 'B'\n",
      "CAB = DCM(zeta)\n",
      "rcq_qcT = np.dot(CAB,rcq_qb.T)\n",
      "rcq_qc = rcq_qcT.T\n",
      "\n",
      "# system 'B' by rotating system 'A'\n",
      "CAB = DCM(zeta)\n",
      "rcq_qdT = np.dot(CAB,rcq_qc.T)\n",
      "rcq_qd = rcq_qdT.T\n",
      "\n",
      "R = [rcq_qa, rcq_qb, rcq_qc, rcq_qd]\n",
      "\n",
      "# Test point\n",
      "rcq_p = np.array([0, d, 0])\n",
      "\n",
      "fig_size = (3,3)\n",
      "\n",
      "# Graphical Representation of test systems\n",
      "for i,r in enumerate(R,start=1):\n",
      "    \n",
      "    # Close all plots\n",
      "    plt.close('all')\n",
      "    # Use Latex Fonts\n",
      "    plt.rc('text', usetex=True)\n",
      "    plt.rc('font', family='serif')\n",
      "    \n",
      "    # Create Plot\n",
      "    fig = plt.figure(figsize=fig_size)\n",
      "    ax = fig.add_subplot(1,1,1, projection='3d')\n",
      "\n",
      "    # Plot Origin\n",
      "#     ax.scatter(0, 0, 0, zdir='z', s=5, c='0.75')\n",
      "    \n",
      "    # plot scale\n",
      "    l = d\n",
      "    \n",
      "    # Plot axis unit vectors\n",
      "#     x_hat = Arrow3D([0,l/2],[0,0],[0,0], mutation_scale=20, lw=1, arrowstyle=\"-|>\", color=\"0.75\")\n",
      "#     ax.add_artist(x_hat)\n",
      "#     y_hat = Arrow3D([0,0],[0,l/2],[0,0], mutation_scale=20, lw=1, arrowstyle=\"-|>\", color=\"0.75\")\n",
      "#     ax.add_artist(y_hat)\n",
      "#     z_hat = Arrow3D([0,0],[0,0],[0,l/2], mutation_scale=20, lw=1, arrowstyle=\"-|>\", color=\"0.75\")\n",
      "#     ax.add_artist(z_hat)\n",
      "    \n",
      "    # plot points\n",
      "    ax.scatter(r[0][0], r[0][1], r[0][2], zdir='z', s=50*np.log(l)*np.abs(q[0]), c='b')\n",
      "    ax.scatter(r[1][0], r[1][1], r[1][2], zdir='z', s=50*np.log(l)*np.abs(q[1]), c='r')\n",
      "    \n",
      "    # Plot evaluation point\n",
      "    ax.scatter(rcq_p[0], rcq_p[1], rcq_p[2], zdir='z', s=10*l, c='green')\n",
      "    \n",
      "    # axis limits\n",
      "#     ax.set_xlim(-l, l)\n",
      "#     ax.set_ylim(-l, l)\n",
      "#     ax.set_zlim(-l, l)\n",
      "\n",
      "    ax.set_xticks(np.arange(-l,l+1,2))\n",
      "    ax.set_yticks(np.arange(-l,l+1,2))\n",
      "    ax.set_zticks(np.arange(-l,l+1,2))\n",
      "    \n",
      "#     majorLocator   = MultipleLocator(1)\n",
      "#     majorFormatter = FormatStrFormatter('%d')\n",
      "#     minorLocator   = MultipleLocator(1)\n",
      "    \n",
      "#     ax.xaxis.set_major_locator(majorLocator)\n",
      "#     ax.xaxis.set_major_formatter(majorFormatter)\n",
      "#     ax.yaxis.set_major_locator(majorLocator)\n",
      "#     ax.yaxis.set_major_formatter(majorFormatter)\n",
      "#     ax.zaxis.set_major_locator(majorLocator)\n",
      "#     ax.zaxis.set_major_formatter(majorFormatter)\n",
      "    \n",
      "\n",
      "#     #for the minor ticks, use no labels; default NullFormatter\n",
      "#     ax.xaxis.set_minor_locator(minorLocator)\n",
      "#     ax.yaxis.set_minor_locator(minorLocator)\n",
      "#     ax.zaxis.set_minor_locator(minorLocator)\n",
      "    \n",
      "    # axis labels\n",
      "    ax.set_xlabel('x')\n",
      "    ax.set_ylabel('y')\n",
      "    ax.set_zlabel('z')\n",
      "    \n",
      "    # plot title\n",
      "#     ax.set_title('Rotation '+repr(angle[i-1]*180/np.pi))\n",
      "    \n",
      "    ax.view_init(elev=30., azim=60.0)\n",
      "    plt.savefig('dipole_'+\"{0:.0f}\".format(angle[i-1]*180/np.pi)+'.pdf') \n",
      "    print('dipole_'+\"{0:.0f}\".format(angle[i-1]*180/np.pi)+'.pdf')\n",
      "    \n",
      "    plt.show()"
     ],
     "language": "python",
     "metadata": {},
     "outputs": [
      {
       "output_type": "stream",
       "stream": "stdout",
       "text": [
        "dipole_0.pdf\n"
       ]
      },
      {
       "metadata": {},
       "output_type": "display_data",
       "png": "[encoded data removed]",
       "text": [
        "<matplotlib.figure.Figure at 0x7f41211ff5c0>"
       ]
      },
      {
       "output_type": "stream",
       "stream": "stdout",
       "text": [
        "dipole_45.pdf\n"
       ]
      },
      {
       "metadata": {},
       "output_type": "display_data",
       "png": "[encoded data removed]",
       "text": [
        "<matplotlib.figure.Figure at 0x7f411ffc5cc0>"
       ]
      },
      {
       "output_type": "stream",
       "stream": "stdout",
       "text": [
        "dipole_90.pdf\n"
       ]
      },
      {
       "metadata": {},
       "output_type": "display_data",
       "png": "[encoded data removed]",
       "text": [
        "<matplotlib.figure.Figure at 0x7f41206b5048>"
       ]
      },
      {
       "output_type": "stream",
       "stream": "stdout",
       "text": [
        "dipole_135.pdf\n"
       ]
      },
      {
       "metadata": {},
       "output_type": "display_data",
       "png": "[encoded data removed]",
       "text": [
        "<matplotlib.figure.Figure at 0x7f4120211240>"
       ]
      }
     ],
     "prompt_number": 14
    },
    {
     "cell_type": "code",
     "collapsed": false,
     "input": [],
     "language": "python",
     "metadata": {},
     "outputs": [],
     "prompt_number": 7
    }
   ],
   "metadata": {}
  }
 ]
}