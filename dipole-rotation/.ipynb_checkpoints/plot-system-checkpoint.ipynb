{
 "metadata": {
  "name": "",
  "signature": "sha256:6563cc5ae43dd8b37d756e987ecc7c855a9438018b8d0f9aa0c09603e8f33d60"
 },
 "nbformat": 3,
 "nbformat_minor": 0,
 "worksheets": [
  {
   "cells": [
    {
     "cell_type": "code",
     "collapsed": false,
     "input": [
      "# import modules\n",
      "import numpy as np\n",
      "import scipy as sc\n",
      "import mpl_toolkits.mplot3d\n",
      "import matplotlib.pyplot as plt\n",
      "\n",
      "from scipy import misc\n",
      "from scipy import special"
     ],
     "language": "python",
     "metadata": {},
     "outputs": [],
     "prompt_number": 1
    },
    {
     "cell_type": "code",
     "collapsed": false,
     "input": [
      "%matplotlib inline\n",
      "# %pdb"
     ],
     "language": "python",
     "metadata": {},
     "outputs": [],
     "prompt_number": 2
    },
    {
     "cell_type": "markdown",
     "metadata": {},
     "source": [
      "###Functions and Classes Needed for Charged Rigid Bodies"
     ]
    },
    {
     "cell_type": "code",
     "collapsed": false,
     "input": [
      "# define roation matrix ccw positive (planar about 3rd axis)\n",
      "# Note: this transforms A to B\n",
      "def DCM(theta):\n",
      "    C = np.array([[np.cos(theta), -np.sin(theta), 0],\n",
      "                  [np.sin(theta),  np.cos(theta), 0],\n",
      "                  [0, 0, 1]])\n",
      "    return C"
     ],
     "language": "python",
     "metadata": {},
     "outputs": [],
     "prompt_number": 3
    },
    {
     "cell_type": "code",
     "collapsed": false,
     "input": [
      "# varialbes\n",
      "# amount of rotation \n",
      "zeta = 45*np.pi/180\n",
      "\n",
      "# number of terms in the multipole expansion\n",
      "p = 3\n",
      "\n",
      "# distance\n",
      "d = 2"
     ],
     "language": "python",
     "metadata": {},
     "outputs": [],
     "prompt_number": 4
    },
    {
     "cell_type": "markdown",
     "metadata": {},
     "source": [
      "###Describe the problem"
     ]
    },
    {
     "cell_type": "markdown",
     "metadata": {},
     "source": [
      "##### Assign charge values and position vectors (Oxygen at origin)"
     ]
    },
    {
     "cell_type": "code",
     "collapsed": false,
     "input": [
      "# characteristic length        \n",
      "a = 1\n",
      "\n",
      "# describe anglular location of hydrogens \n",
      "# theta = 109.5/2*np.pi/180\n",
      "# psi = -(np.pi/2 - theta)\n",
      "# phi = 3/2*np.pi - theta\n",
      "\n",
      "# charge values [O H H]\n",
      "q = [1, -1]\n",
      "\n",
      "# location of charges w.r.t origin\n",
      "roq =  np.array([[-a/2, 0, 0],\n",
      "                 [ a/2, 0, 0],\n",
      "                 [   0, 0, 0]])"
     ],
     "language": "python",
     "metadata": {},
     "outputs": [],
     "prompt_number": 5
    },
    {
     "cell_type": "markdown",
     "metadata": {},
     "source": [
      "##### Compute the center of charge and locate particles w.r.t. center of charge"
     ]
    },
    {
     "cell_type": "code",
     "collapsed": false,
     "input": [
      "rocq = np.sum([abs(q)*r for q,r in zip(q,roq)],0)/np.sum(np.abs(q))\n",
      "rcq_q = np.array([rq - rocq for rq in roq])\n",
      "# print(rocq)\n",
      "# print()\n",
      "# print(rcq_q)"
     ],
     "language": "python",
     "metadata": {},
     "outputs": [],
     "prompt_number": 6
    },
    {
     "cell_type": "markdown",
     "metadata": {},
     "source": [
      "##### Define System"
     ]
    },
    {
     "cell_type": "code",
     "collapsed": false,
     "input": [
      "# array of rotation increments\n",
      "angle = np.array([0, zeta, 2*zeta, 3*zeta])\n",
      "\n",
      "# water orientation 'A'\n",
      "rcq_qa = rcq_q\n",
      "\n",
      "# system 'B' by rotating system 'A'\n",
      "CAB = DCM(zeta)\n",
      "rcq_qbT = np.dot(CAB,rcq_qa.T)\n",
      "rcq_qb = rcq_qbT.T\n",
      "\n",
      "# system 'C' by rotating system 'B'\n",
      "CAB = DCM(zeta)\n",
      "rcq_qcT = np.dot(CAB,rcq_qb.T)\n",
      "rcq_qc = rcq_qcT.T\n",
      "\n",
      "# system 'B' by rotating system 'A'\n",
      "CAB = DCM(zeta)\n",
      "rcq_qdT = np.dot(CAB,rcq_qc.T)\n",
      "rcq_qd = rcq_qdT.T\n",
      "\n",
      "R = [rcq_qa, rcq_qb, rcq_qc, rcq_qd]\n",
      "\n",
      "# Test point\n",
      "rcq_p = np.array([0, d, 0])"
     ],
     "language": "python",
     "metadata": {},
     "outputs": [],
     "prompt_number": 7
    },
    {
     "cell_type": "markdown",
     "metadata": {},
     "source": [
      "##### Plot System"
     ]
    },
    {
     "cell_type": "code",
     "collapsed": false,
     "input": [
      "# Use Latex Fonts\n",
      "# plt.rcParams.update({'font.size': 8, 'text.usetex': True})\n",
      "\n",
      "# Close all plots\n",
      "plt.close('all')\n",
      "\n",
      "# Create Plot\n",
      "fig = plt.figure(figsize=(2.5,2.5))\n",
      "\n",
      "# plot scale\n",
      "l = d\n",
      "\n",
      "# Plot 4 Instances of Rotation\n",
      "for i,r in enumerate(R,start=1):\n",
      "    \n",
      "    ax = fig.add_subplot(1,1,1, projection='3d')\n",
      "    \n",
      "    # axis limits\n",
      "    ax.set_xlim3d(-l, l)\n",
      "    ax.set_ylim3d(-l, l)\n",
      "    ax.set_zlim3d(-l, l)\n",
      "\n",
      "    ax.set_xticks(np.arange(-l,l+1,1))\n",
      "    ax.set_yticks(np.arange(-l,l+1,1))\n",
      "    ax.set_zticks(np.arange(-l,l+1,1))\n",
      "    \n",
      "    xLabel = ax.set_xlabel(\"\\n\"+\"\\n\"+r\"x\")\n",
      "    yLabel = ax.set_ylabel(\"\\n\"+\"\\n\"+r\"y\")\n",
      "    zLabel = ax.set_zlabel(\"\\n\"+\"\\n\"+r\"z\")\n",
      "\n",
      "    # Plot Evaluation point\n",
      "    ax.scatter(rcq_p[0], rcq_p[1], rcq_p[2], zdir='z', s=10*l, c='green')\n",
      "    # Plot Dipole\n",
      "    ax.scatter(r[0][0], r[0][1], r[0][2], zdir='z', s=50*np.log(l)*np.abs(q[0]), c='b')\n",
      "    ax.scatter(r[1][0], r[1][1], r[1][2], zdir='z', s=50*np.log(l)*np.abs(q[1]), c='r')\n",
      "    \n",
      "    # Set 3D viewing angle\n",
      "    ax.view_init(elev=30., azim=45.0)\n",
      "\n",
      "    # Save the figures\n",
      "#     plt.savefig('dipole_'+\"{0:.0f}\".format(angle[i-1]*180/np.pi)+'.pdf') \n",
      "    ax.dist = 10\n",
      "    plt.show()"
     ],
     "language": "python",
     "metadata": {},
     "outputs": [
      {
       "metadata": {},
       "output_type": "display_data",
       "png": "[encoded data removed]",
       "text": [
        "<matplotlib.figure.Figure at 0x106bf0240>"
       ]
      },
      {
       "metadata": {},
       "output_type": "display_data",
       "text": [
        "<matplotlib.figure.Figure at 0x106e93828>"
       ]
      },
      {
       "metadata": {},
       "output_type": "display_data",
       "text": [
        "<matplotlib.figure.Figure at 0x106edf550>"
       ]
      },
      {
       "metadata": {},
       "output_type": "display_data",
       "text": [
        "<matplotlib.figure.Figure at 0x1071bb978>"
       ]
      }
     ],
     "prompt_number": 8
    },
    {
     "cell_type": "code",
     "collapsed": false,
     "input": [
      "for i,r in enumerate(R,start=1):\n",
      "    print(repr(r[0][0]))\n",
      "    print(repr(r[0][1]))\n",
      "    print(repr(r[0][2])+'\\n')"
     ],
     "language": "python",
     "metadata": {},
     "outputs": [
      {
       "output_type": "stream",
       "stream": "stdout",
       "text": [
        "-0.5\n",
        "0.0\n",
        "0.0\n",
        "\n",
        "-0.35355339059327379\n",
        "-0.35355339059327373\n",
        "0.0\n",
        "\n",
        "-1.1102230246251565e-16\n",
        "-0.5\n",
        "0.0\n",
        "\n",
        "0.35355339059327368\n",
        "-0.35355339059327384\n",
        "0.0\n",
        "\n"
       ]
      }
     ],
     "prompt_number": 9
    },
    {
     "cell_type": "code",
     "collapsed": false,
     "input": [],
     "language": "python",
     "metadata": {},
     "outputs": [],
     "prompt_number": 9
    }
   ],
   "metadata": {}
  }
 ]
}