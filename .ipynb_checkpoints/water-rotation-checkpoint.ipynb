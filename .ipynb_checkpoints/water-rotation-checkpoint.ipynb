{
 "metadata": {
  "name": ""
 },
 "nbformat": 3,
 "nbformat_minor": 0,
 "worksheets": [
  {
   "cells": [
    {
     "cell_type": "markdown",
     "metadata": {},
     "source": [
      "##A simple multipole rotation example of rigid water"
     ]
    },
    {
     "cell_type": "code",
     "collapsed": false,
     "input": [
      "# import modules\n",
      "import ipdb\n",
      "\n",
      "import numpy as np\n",
      "\n",
      "import scipy as sc\n",
      "from scipy import misc\n",
      "from scipy import special\n",
      "\n",
      "import matplotlib.pyplot as pyplt"
     ],
     "language": "python",
     "metadata": {},
     "outputs": [],
     "prompt_number": 1
    },
    {
     "cell_type": "code",
     "collapsed": false,
     "input": [
      "%matplotlib inline\n",
      "# %pdb"
     ],
     "language": "python",
     "metadata": {},
     "outputs": [],
     "prompt_number": 2
    },
    {
     "cell_type": "markdown",
     "metadata": {},
     "source": [
      "###Functions and Classes Needed for Charged Rigid Bodies"
     ]
    },
    {
     "cell_type": "code",
     "collapsed": false,
     "input": [
      "# define roation matrix ccw positive (planar about 3rd axis)\n",
      "# Note: this transforms A to B\n",
      "def DCM(theta):\n",
      "    C = np.array([[np.cos(theta), -np.sin(theta), 0],\n",
      "                  [np.sin(theta),  np.cos(theta), 0],\n",
      "                  [0, 0, 1]])\n",
      "    return C"
     ],
     "language": "python",
     "metadata": {},
     "outputs": [],
     "prompt_number": 3
    },
    {
     "cell_type": "code",
     "collapsed": false,
     "input": [
      "# compute spherical harmonics using semi-normalized formula\n",
      "def my_sph(m,n,theta,phi):\n",
      "    x = np.cos(theta)\n",
      "    C = np.sqrt(sc.misc.factorial(n-np.abs(m))/sc.misc.factorial(n+np.abs(m)))\n",
      "    Pmn = (-1)**np.abs(m)*(1-x**2)**(np.abs(m)/2)*sc.special.eval_legendre((n-np.abs(m)), x)\n",
      "    Ymn = C*Pmn*sc.exp(1j*m*phi)\n",
      "    return Ymn"
     ],
     "language": "python",
     "metadata": {},
     "outputs": [],
     "prompt_number": 4
    },
    {
     "cell_type": "code",
     "collapsed": false,
     "input": [
      "class ChargedBody:\n",
      "    \"\"\"\n",
      "    This is the class that contains the charge properties of a body\n",
      "        inputs: \n",
      "            q        - list of the value of charge for the body\n",
      "            q_coords - list of x and y coords\n",
      "            iD       - number of the body\n",
      "    \"\"\"\n",
      "    # Initialize instance\n",
      "    def __init__(self, q, q_coords, iD):\n",
      "        self.q        = q\n",
      "        self.iD       = iD\n",
      "        self.num_q    = len(q)\n",
      "        self.q_coords = q_coords\n",
      "            \n",
      "    def __repr__(self):\n",
      "        \"\"\"\n",
      "        Defines the print method\n",
      "        \"\"\"\n",
      "        return \"Body - \"                 + repr(self.iD)        + \"\\n\" + \\\n",
      "               \"N_charges = \"            + repr(self.num_q)     + \"\\n\" + \\\n",
      "               \"Charge values = \"        + repr(self.q)         + \"\\n\" + \\\n",
      "               \"Charge coords = \" + \"\\n\" + repr(self.q_coords)  + \"\\n\"\n",
      "                \n",
      "    def mul_exp(self,p):\n",
      "        \"\"\"\n",
      "        This function computes the multipole expansions for the componentwise force computation\n",
      "            inputs:\n",
      "                m - degree of the expansion\n",
      "                n - order of the expansion\n",
      "        \"\"\"\n",
      "        self.p = p\n",
      "        self.M = np.array([[np.sum([q * qc['rho'] **(n) * my_sph(-m, n, qc['alpha'], qc['beta']) \n",
      "                                    for q,qc in zip(self.q,self.q_coords)]) \n",
      "                                    for m in range(-n,n+1)] for n in range(self.p+1)])\n",
      "    \n",
      "    def rotate(self, theta, alpha, beta, gamma):\n",
      "        \"\"\"\n",
      "        Performs the rigid body rotation of the inertial properties and the rotation of the multipole expansions\n",
      "            inputs: \n",
      "                theta - angle for the kinematic rotations ** not implemented yet (not needed at this time)\n",
      "        \"\"\"\n",
      "        # initialze arrays with zeros\n",
      "        C = np.zeros(3)\n",
      "        d = [[[0.0+1j*0 for m in range(-n,n+1)] for mp in range(-n,n+1)] for n in range(self.p+1)]\n",
      "        Mp = [[0.0+1j*0 for m in range(-n,n+1)] for n in range(self.p+1)]\n",
      "        \n",
      "        # also set to zeros\n",
      "        D = d\n",
      "        \n",
      "        # d[0][0][0] and D[0][0][0] are known \n",
      "        d[0][0][0] = 1\n",
      "        D[0][0][0] = 1\n",
      "\n",
      "        Mp[0][0] = self.M[0][0]\n",
      "\n",
      "        # recursive computation of terms of d and D matricies\n",
      "        for n in range(1,self.p):\n",
      "            for mp in range(-n,n+1):\n",
      "                for m in range(-n,n+1):\n",
      "                    if mp < -(n-1):\n",
      "                        C[0] = np.sin(beta/2)**2*np.sqrt((n+m)*(n+m-1)/((n-mp)*(n-mp-1)))\n",
      "                        C[1] = 2*np.sin(beta/2)*np.cos(beta/2)*np.sqrt((n+m)*(n-m)/((n-mp)*(n-mp-1)))\n",
      "                        C[2] = np.cos(beta/2)**2*np.sqrt((n-m)*(n-m-1)/((n-mp)*(n-mp-1)))\n",
      "                        d[n][mp+n][m+n] = np.sum([C[i-m+1]*d[n-1][mp+1+(n-1)][i+(n-1)] \n",
      "                                                  for i in range(np.max([m-1,-(n-1)]), np.min([m+1,n-1])+1)])\n",
      "                    elif mp > (n-1):\n",
      "                        C[0] = np.cos(beta/2)**2*np.sqrt((n+m)*(n+m-1)/((n+mp)*(n+mp-1)))\n",
      "                        C[1] = -2*np.sin(beta/2)*np.cos(beta/2)*np.sqrt((n+m)*(n-m)/((n+mp)*(n+mp-1)))\n",
      "                        C[2] = np.sin(beta/2)**2*np.sqrt((n-m)*(n-m-1)/((n+mp)*(n+mp-1)))\n",
      "                        d[n][mp+n][m+n] = np.sum([C[i-m+1]*d[n-1][mp-1+(n-1)][i+(n-1)] \n",
      "                                                  for i in range(np.max([m-1,-(n-1)]), np.min([m+1,n-1])+1)])\n",
      "                    else:\n",
      "                        C[0] = np.sin(beta/2)*np.cos(beta/2)*np.sqrt((n+m)*(n+m-1)/((n+mp)*(n-mp)))\n",
      "                        C[1] = (np.cos(beta/2)**2-np.sin(beta/2))*np.sqrt((n-m)*(n+m)/((n-mp)))\n",
      "                        C[2] = -np.sin(beta/2)*np.cos(beta/2)*np.sqrt((n-m)*(n-m+1)/((n-mp)*(n+mp)))\n",
      "                        d[n][mp+n][m+n] = np.sum([C[i-m+1]*d[n-1][mp+(n-1)][i+(n-1)] \n",
      "                                                  for i in range(np.max([m-1,-(n-1)]), np.min([m+1,n-1])+1)])\n",
      "                    D[n][mp+n][m+n] = np.exp(1j*m*gamma)*d[n][mp+n][m+n]*np.exp(1j*m*alpha)\n",
      "                Mp[n][mp+n] = np.dot(D[n][mp+n],self.M[n])\n",
      "        self.M = Mp\n",
      "    \n",
      "    def potential(self, rp):\n",
      "        \"\"\"\n",
      "        This function computes the couloumb potential due to a charged body at a particluar point in space.\n",
      "            inputs:\n",
      "                loc - spherical coordinates of the point of interest\n",
      "            outputs:\n",
      "                Phi - potential\n",
      "        \"\"\"\n",
      "        Phi = np.sum([np.sum([self.M[n][m+n]/rp['rho']**(n+1)*my_sph(m, n, rp['alpha'], rp['beta']) \\\n",
      "                              for m in range(-n,n+1)]) for n in range(self.p+1)])\n",
      "        return Phi"
     ],
     "language": "python",
     "metadata": {},
     "outputs": [],
     "prompt_number": 5
    },
    {
     "cell_type": "code",
     "collapsed": false,
     "input": [
      "# varialbes\n",
      "# amount of rotation \n",
      "zeta = 90*np.pi/180\n",
      "\n",
      "# number of terms in the multipole expansion\n",
      "p = 5\n",
      "\n",
      "# distance\n",
      "d = 5"
     ],
     "language": "python",
     "metadata": {},
     "outputs": [],
     "prompt_number": 6
    },
    {
     "cell_type": "markdown",
     "metadata": {},
     "source": [
      "###Describe the problem"
     ]
    },
    {
     "cell_type": "markdown",
     "metadata": {},
     "source": [
      "##### Assign charge values and position vectors (Oxygen at origin)"
     ]
    },
    {
     "cell_type": "code",
     "collapsed": false,
     "input": [
      "# characteristic length        \n",
      "a = 1\n",
      "\n",
      "# describe anglular location of hydrogens \n",
      "theta = 109.5/2*np.pi/180\n",
      "psi = -(np.pi/2 - theta)\n",
      "phi = 3/2*np.pi - theta\n",
      "\n",
      "# charge values [O H H]\n",
      "q = [-.82, .41, .41]\n",
      "\n",
      "roq =  np.array([[0, 0, 0],\n",
      "                 [a*np.cos(psi), a*np.sin(psi), 0],\n",
      "                 [a*np.cos(phi), a*np.sin(phi), 0]])"
     ],
     "language": "python",
     "metadata": {},
     "outputs": [],
     "prompt_number": 7
    },
    {
     "cell_type": "markdown",
     "metadata": {},
     "source": [
      "##### Compute the center of charge and locate particles w.r.t. center of charge"
     ]
    },
    {
     "cell_type": "code",
     "collapsed": false,
     "input": [
      "rocq = np.sum([np.abs(qq)*r for qq,r in zip(q,roq)],0)/np.sum(np.size(q))\n",
      "rcq_q = np.array([rq - rocq for rq in roq])"
     ],
     "language": "python",
     "metadata": {},
     "outputs": [],
     "prompt_number": 8
    },
    {
     "cell_type": "code",
     "collapsed": false,
     "input": [
      "# array of rotation increments\n",
      "angle = np.array([0, zeta])\n",
      "\n",
      "# water orientation 'A'\n",
      "rcq_qa = rcq_q\n",
      "\n",
      "# system 'B' by rotating system 'A'\n",
      "CAB = DCM(angle[1])\n",
      "rcq_qbT = np.dot(CAB,rcq_qa.T)\n",
      "rcq_qb = rcq_qbT.T\n",
      "\n",
      "R = [rcq_qa, rcq_qb]\n",
      "\n",
      "# Test point\n",
      "rcq_p = np.array([0, -d, 0])\n",
      "\n",
      "# Graphical Representation of test systems\n",
      "fig = pyplt.figure(figsize=(18,6))\n",
      "\n",
      "for i,r in enumerate(R,start=1):\n",
      "    # Create Plots\n",
      "    ax = fig.add_subplot(1, 2, i)\n",
      "    \n",
      "    # Plot Origin\n",
      "    ax.scatter(0, 0, s=5, c='0.75')\n",
      "    \n",
      "    # plot scale\n",
      "    l = d+1\n",
      "    \n",
      "    # plot points\n",
      "    ax.scatter(r[0][0], r[0][1], s=50*np.log(l)*np.abs(q[0]), c='w')\n",
      "    ax.scatter(r[1][0], r[1][1], s=50*np.log(l)*np.abs(q[1]), c='r')\n",
      "    ax.scatter(r[2][0], r[2][1], s=50*np.log(l)*np.abs(q[2]), c='r')\n",
      "\n",
      "    # Plot evaluation point\n",
      "    ax.scatter(rcq_p[0], rcq_p[1], s=10*l, c='green')\n",
      "    \n",
      "    # axis limits\n",
      "    ax.set_xlim(-l, l)\n",
      "    ax.set_ylim(-l, l)\n",
      "    \n",
      "    # axis labels\n",
      "    ax.set_xlabel('x')\n",
      "    ax.set_ylabel('y')\n",
      "    \n",
      "    # plot title\n",
      "    ax.set_title('Rotation '+repr(angle[i-1]*180/np.pi))\n",
      "    \n",
      "# Plot charge locations\n",
      "pyplt.show()"
     ],
     "language": "python",
     "metadata": {},
     "outputs": [
      {
       "metadata": {},
       "output_type": "display_data",
       "png": "[encoded data removed]",
       "text": [
        "<matplotlib.figure.Figure at 0x106899b90>"
       ]
      }
     ],
     "prompt_number": 9
    },
    {
     "cell_type": "markdown",
     "metadata": {},
     "source": [
      "##Evaluate Potential from Multipole Expansion and Check Agaist Exact Solution"
     ]
    },
    {
     "cell_type": "markdown",
     "metadata": {},
     "source": [
      "####Transform cartesian coordinates to spherical"
     ]
    },
    {
     "cell_type": "code",
     "collapsed": false,
     "input": [
      "# Convert the coordinates of each system to spherical\n",
      "def cart_to_sph(r):\n",
      "    \"\"\"\n",
      "    Converts from cartesian coords to spherical\n",
      "    inputs:  \n",
      "        r_c   - matrix of cartesian particle coordinates, r_c[i] = [xi yi zi]\n",
      "        r_sph - martis of spherical particle cooridnates, r_sph[i] = [rho_i alpha_i beta_i]\n",
      "    \"\"\"\n",
      "\n",
      "    # initialize the new vector \n",
      "    r_sph = np.empty(r.shape)\n",
      "    \n",
      "    # Define this quantity since it is used multiple times\n",
      "    r01 = r[:,0]**2 + r[:,1]**2\n",
      "    \n",
      "    # compute new vector quantities\n",
      "    r_sph[:,0] = np.sqrt(r01 + r[:,2]**2)\n",
      "    r_sph[:,1] = np.arctan2(np.sqrt(r01), r[:,2]) # for elevation angle defined from Z-axis down\n",
      "    r_sph[:,2] = np.arctan2(r[:,1], r[:,0])\n",
      "    \n",
      "    # return new spherical coords dictionary\n",
      "    r_sph = [dict(zip(['rho','alpha','beta'], r)) for r in r_sph]\n",
      "    return r_sph\n",
      "\n",
      "# Transform coordinates of point of interest\n",
      "rcq_p_sph = cart_to_sph(np.array([rcq_p]))\n",
      "\n",
      "# Transform coordinates of charge locations\n",
      "rcq_qa_sph = cart_to_sph(rcq_qa)\n",
      "rcq_qb_sph = cart_to_sph(rcq_qb)"
     ],
     "language": "python",
     "metadata": {},
     "outputs": [],
     "prompt_number": 10
    },
    {
     "cell_type": "code",
     "collapsed": false,
     "input": [
      "[print('rho = ',r['rho'],\n",
      "       'alpha = ',r['alpha']*180/np.pi,\n",
      "       'beta  = ',r['beta']*180/np.pi) for r in rcq_p_sph]\n",
      "print()\n",
      "[print('rho = ',r['rho'],\n",
      "       'alpha = ',r['alpha']*180/np.pi,\n",
      "       'beta  = ',r['beta']*180/np.pi) for r in rcq_qa_sph]\n",
      "print()\n",
      "[print('rho = ',r['rho'],\n",
      "       'alpha = ',r['alpha']*180/np.pi,\n",
      "       'beta  = ',r['beta']*180/np.pi) for r in rcq_qb_sph]"
     ],
     "language": "python",
     "metadata": {},
     "outputs": [
      {
       "output_type": "stream",
       "stream": "stdout",
       "text": [
        "rho =  5.0 alpha =  90.0 beta  =  -90.0\n",
        "\n",
        "rho =  0.15775301861 alpha =  90.0 beta  =  90.0\n",
        "rho =  0.918037702424 alpha =  90.0 beta  =  -27.1830929519\n",
        "rho =  0.918037702424 alpha =  90.0 beta  =  -152.816907048\n",
        "\n",
        "rho =  0.15775301861 alpha =  90.0 beta  =  180.0\n",
        "rho =  0.918037702424 alpha =  90.0 beta  =  62.8169070481\n",
        "rho =  0.918037702424 alpha =  90.0 beta  =  -62.8169070481\n"
       ]
      },
      {
       "metadata": {},
       "output_type": "pyout",
       "prompt_number": 11,
       "text": [
        "[None, None, None]"
       ]
      }
     ],
     "prompt_number": 11
    },
    {
     "cell_type": "markdown",
     "metadata": {},
     "source": [
      "###Create a charged rigid body for each configuration"
     ]
    },
    {
     "cell_type": "code",
     "collapsed": false,
     "input": [
      "# Create a charged body for system A\n",
      "bodyA = ChargedBody(q, rcq_qa_sph, 1)\n",
      "bodyB = ChargedBody(q, rcq_qb_sph, 2)"
     ],
     "language": "python",
     "metadata": {},
     "outputs": [],
     "prompt_number": 12
    },
    {
     "cell_type": "markdown",
     "metadata": {},
     "source": [
      "####Compute Multipole Expansions"
     ]
    },
    {
     "cell_type": "code",
     "collapsed": false,
     "input": [
      "# Form Multipole Expansions\n",
      "bodyA.mul_exp(p)\n",
      "bodyB.mul_exp(p)\n",
      "# [print('bodyA.M['+repr(n)+'] = [%s]' % ', '.join(map(str, [\"{0:.3f}\".format(M) for M in bodyA.M[n]]))) for n in range(p)]\n",
      "# print()\n",
      "# [print('bodyB.M['+repr(n)+'] = [%s]' % ', '.join(map(str, [\"{0:.3f}\".format(M) for M in bodyB.M[n]]))) for n in range(p)]"
     ],
     "language": "python",
     "metadata": {},
     "outputs": [],
     "prompt_number": 13
    },
    {
     "cell_type": "markdown",
     "metadata": {},
     "source": [
      "####Evaluate Potential at test point for all configurations"
     ]
    },
    {
     "cell_type": "code",
     "collapsed": false,
     "input": [
      "# Evaluate Potential at a point [r theta phi] for body A\n",
      "PhiA = bodyA.potential(rcq_p_sph[0])\n",
      "PhiB = bodyB.potential(rcq_p_sph[0])\n",
      "print(\"Potential (via M.E.) of System A at point 'p' = \",PhiA.real)\n",
      "print(\"Potential (via M.E.) of System B at point 'p' = \",PhiB.real)"
     ],
     "language": "python",
     "metadata": {},
     "outputs": [
      {
       "output_type": "stream",
       "stream": "stdout",
       "text": [
        "Potential (via M.E.) of System A at point 'p' =  0.0200326462112\n",
        "Potential (via M.E.) of System B at point 'p' =  0.00164972826076\n"
       ]
      }
     ],
     "prompt_number": 14
    },
    {
     "cell_type": "markdown",
     "metadata": {},
     "source": [
      "####Compute Exact Solution"
     ]
    },
    {
     "cell_type": "code",
     "collapsed": false,
     "input": [
      "VA = np.sum([qa/np.linalg.norm(-rcq_p + r) for qa,r in zip(q,rcq_qa)])\n",
      "VB = np.sum([qb/np.linalg.norm(-rcq_p + r) for qb,r in zip(q,rcq_qb)])\n",
      "print(\"Potential (exact) of System A at point 'p' = \",VA)\n",
      "print(\"Potential (exact) of System B at point 'p' = \",VB)"
     ],
     "language": "python",
     "metadata": {},
     "outputs": [
      {
       "output_type": "stream",
       "stream": "stdout",
       "text": [
        "Potential (exact) of System A at point 'p' =  0.0172526867015\n",
        "Potential (exact) of System B at point 'p' =  0.00390501163203\n"
       ]
      }
     ],
     "prompt_number": 15
    },
    {
     "cell_type": "markdown",
     "metadata": {},
     "source": [
      "####Rotate Body-fixed multipole expansions from the 'A' configuration to the 'B' configuration in the inertial reference frame and compute the potential and the error"
     ]
    },
    {
     "cell_type": "code",
     "collapsed": false,
     "input": [
      "# Perform a rotation on System A so that it is the same configuration as B \n",
      "alpha = zeta\n",
      "beta = 0\n",
      "gamma = 0\n",
      "bodyA.rotate(0, alpha, beta, gamma)\n",
      "\n",
      "# Evaluate potential of 'A' at 'B'\n",
      "PhiA_B  = bodyA.potential(rcq_p_sph[0])"
     ],
     "language": "python",
     "metadata": {},
     "outputs": [],
     "prompt_number": 16
    },
    {
     "cell_type": "code",
     "collapsed": false,
     "input": [
      "# Compute error and print results\n",
      "error_exact = np.abs((PhiA_B-VB)/VB)*100\n",
      "error_rot = np.abs((PhiA_B-PhiB)/PhiB)*100\n",
      "\n",
      "rr = np.linalg.norm(rcq_p)\n",
      "aa = np.max([r['rho'] for r in rcq_qb_sph])\n",
      "\n",
      "# Compute the error bound\n",
      "bound = (np.sum(np.abs(q))/(rr-aa)*(aa/rr)**(p+1))/VB*100\n",
      "\n",
      "print(\"Potential (via M.E.) of System A rot to B evaluated at point 'p' = \",PhiA_B.real)\n",
      "print(\"% Error compared to exact = \",\"{0:.3f}\".format(error_exact.real),'%')\n",
      "print(\"% Error bound = \",\"{0:.3f}\".format(bound),'%')\n",
      "print(\"% Error compared to potential using M.E. of 'B' = \",\"{0:.3f}\".format(error_rot.real),'%')"
     ],
     "language": "python",
     "metadata": {},
     "outputs": [
      {
       "output_type": "stream",
       "stream": "stdout",
       "text": [
        "Potential (via M.E.) of System A rot to B evaluated at point 'p' =  0.00202804910019\n",
        "% Error compared to exact =  48.068 %\n",
        "% Error bound =  0.394 %\n",
        "% Error compared to potential using M.E. of 'B' =  22.963 %\n"
       ]
      }
     ],
     "prompt_number": 17
    },
    {
     "cell_type": "code",
     "collapsed": false,
     "input": [],
     "language": "python",
     "metadata": {},
     "outputs": [],
     "prompt_number": 17
    }
   ],
   "metadata": {}
  }
 ]
}