{
 "metadata": {
  "name": ""
 },
 "nbformat": 3,
 "nbformat_minor": 0,
 "worksheets": [
  {
   "cells": [
    {
     "cell_type": "markdown",
     "metadata": {},
     "source": [
      "##A simple problem involving rotations of multipole expansions"
     ]
    },
    {
     "cell_type": "code",
     "collapsed": false,
     "input": [
      "# import modules\n",
      "import ipdb\n",
      "\n",
      "import numpy as np\n",
      "\n",
      "import scipy as sc\n",
      "from scipy import misc\n",
      "from scipy import special\n",
      "\n",
      "import matplotlib.pyplot as pyplt"
     ],
     "language": "python",
     "metadata": {},
     "outputs": [],
     "prompt_number": 1
    },
    {
     "cell_type": "code",
     "collapsed": false,
     "input": [
      "%matplotlib inline\n",
      "# %pdb"
     ],
     "language": "python",
     "metadata": {},
     "outputs": [],
     "prompt_number": 2
    },
    {
     "cell_type": "markdown",
     "metadata": {},
     "source": [
      "####Describe the problem"
     ]
    },
    {
     "cell_type": "code",
     "collapsed": false,
     "input": [
      "# import more plotting tools\n",
      "from mpl_toolkits.mplot3d import Axes3D\n",
      "from mpl_toolkits.mplot3d import proj3d\n",
      "from matplotlib.patches import FancyArrowPatch\n",
      "\n",
      "# Classes needed for arrow plotting\n",
      "class Arrow3D(FancyArrowPatch):\n",
      "    def __init__(self, xs, ys, zs, *args, **kwargs):\n",
      "        FancyArrowPatch.__init__(self, (0,0), (0,0), *args, **kwargs)\n",
      "        self._verts3d = xs, ys, zs\n",
      "\n",
      "    def draw(self, renderer):\n",
      "        xs3d, ys3d, zs3d = self._verts3d\n",
      "        xs, ys, zs = proj3d.proj_transform(xs3d, ys3d, zs3d, renderer.M)\n",
      "        self.set_positions((xs[0],ys[0]),(xs[1],ys[1]))\n",
      "        FancyArrowPatch.draw(self, renderer)\n",
      "\n",
      "# characteristic length        \n",
      "a = 1\n",
      "\n",
      "# angular increment\n",
      "theta = np.pi/4\n",
      "\n",
      "# charge values\n",
      "q = [1, -1]\n",
      "\n",
      "# system a\n",
      "rq_a = dict(zip(['r_Oq1', 'r_Oq2'], np.array([[a/2, 0, 0],[-a/2, 0, 0]])))\n",
      "# q_a = [1, -1]\n",
      "\n",
      "# system b\n",
      "rq_b = dict(zip(['r_Oq1', 'r_Oq2'], [[a/2*np.cos(theta), a/2*np.sin(theta), 0], \n",
      "                                     [-a/2*np.sin(theta), -a/2*np.cos(theta), 0]]))\n",
      "# q_b = [1, -1]\n",
      "\n",
      "# system C\n",
      "rq_c = dict(zip(['r_Oq1', 'r_Oq2'], [[0, a/2, 0],[0, -a/2, 0]]))\n",
      "# q_c = [1, -1]\n",
      "\n",
      "R = [rq_a, rq_b, rq_c]\n",
      "\n",
      "# Test point\n",
      "rp = np.array([-2, 0, 0])\n",
      "\n",
      "# Graphical Representation of test systems\n",
      "fig = pyplt.figure(figsize=(18,6))\n",
      "\n",
      "for i,r in enumerate(R,start=1):\n",
      "    # Create Plots\n",
      "    ax = fig.add_subplot(1, 3, i, projection='3d')\n",
      "    \n",
      "    # Plot Origin\n",
      "    ax.scatter(0, 0, 0, zdir='z', s=5, c='0.75')\n",
      "    \n",
      "    # Plot axis vectors\n",
      "    x_hat = Arrow3D((0,1),(0,0),(0,0), mutation_scale=20, lw=1, arrowstyle=\"-|>\", color=\"0.75\")\n",
      "    ax.add_artist(x_hat)\n",
      "    y_hat = Arrow3D((0,0),(0,0.3725),(0,0), mutation_scale=20, lw=1, arrowstyle=\"-|>\", color=\"0.75\")\n",
      "    ax.add_artist(y_hat)\n",
      "    z_hat = Arrow3D((0,0),(0,0),(0,0.3725), mutation_scale=20, lw=1, arrowstyle=\"-|>\", color=\"0.75\")\n",
      "    ax.add_artist(z_hat)\n",
      "    \n",
      "    # Plot charge locations\n",
      "    ax.scatter(r['r_Oq1'][0], r['r_Oq1'][1], r['r_Oq1'][2], zdir='z', s=20*np.abs(q[0]), c='r')\n",
      "    ax.scatter(r['r_Oq2'][0], r['r_Oq2'][1], r['r_Oq2'][2], zdir='z', s=20*np.abs(q[1]), c='b')\n",
      "\n",
      "    # Plot evaluation point\n",
      "    ax.scatter(rp[0], rp[1], rp[2], zdir='z', s=20, c='y')\n",
      "    \n",
      "    # axis limits\n",
      "    ax.set_xlim3d(-4, 1)\n",
      "    ax.set_ylim3d(-1, 1)\n",
      "    ax.set_zlim3d(-1, 1)\n",
      "    \n",
      "    # axis labels\n",
      "    ax.set_xlabel('x')\n",
      "    ax.set_ylabel('y')\n",
      "    ax.set_zlabel('z')\n",
      "    \n",
      "    # plot title\n",
      "    ax.set_title('System A')\n",
      "    \n",
      "# Plot charge locations\n",
      "pyplt.show()"
     ],
     "language": "python",
     "metadata": {},
     "outputs": [
      {
       "metadata": {},
       "output_type": "display_data",
       "png": "[encoded data removed]",
       "text": [
        "<matplotlib.figure.Figure at 0x105a6afd0>"
       ]
      }
     ],
     "prompt_number": 3
    },
    {
     "cell_type": "markdown",
     "metadata": {},
     "source": [
      "###Functions and Classes Needed for Charged Rigid Bodies"
     ]
    },
    {
     "cell_type": "code",
     "collapsed": false,
     "input": [
      "def my_sph(m,n,theta,phi):\n",
      "    x = np.cos(theta)\n",
      "    C = np.sqrt(sc.misc.factorial(n-np.abs(m))/sc.misc.factorial(n+np.abs(m)))\n",
      "    Pmn = (-1)**np.abs(m)*(1-x**2)**(np.abs(m)/2)*sc.special.eval_legendre((n-np.abs(m)), x)\n",
      "    Ymn = C*Pmn*sc.exp(1j*m*phi)\n",
      "    return Ymn"
     ],
     "language": "python",
     "metadata": {},
     "outputs": [],
     "prompt_number": 4
    },
    {
     "cell_type": "code",
     "collapsed": false,
     "input": [
      "class ChargedBody:\n",
      "    \"\"\"\n",
      "    This is the class that contains the charge properties of a body\n",
      "        inputs: \n",
      "            q        - list of the value of charge for the body\n",
      "            q_coords - list of x and y coords\n",
      "            iD       - number of the body\n",
      "    \"\"\"\n",
      "    # Initialize instance\n",
      "    def __init__(self, q, q_coords, iD):\n",
      "        self.q        = q\n",
      "        self.iD       = iD\n",
      "        self.num_q    = len(q)\n",
      "        self.q_coords = q_coords\n",
      "            \n",
      "    def __repr__(self):\n",
      "        \"\"\"\n",
      "        Defines the print method\n",
      "        \"\"\"\n",
      "        return \"Body - \"                 + repr(self.iD)        + \"\\n\" + \\\n",
      "               \"N_charges = \"            + repr(self.num_q)     + \"\\n\" + \\\n",
      "               \"Charge values = \"        + repr(self.q)         + \"\\n\" + \\\n",
      "               \"Charge coords = \" + \"\\n\" + repr(self.q_coords)  + \"\\n\"\n",
      "                \n",
      "    def mul_exp(self,p):\n",
      "        \"\"\"\n",
      "        This function computes the multipole expansions for the componentwise force computation\n",
      "            inputs:\n",
      "                m - degree of the expansion\n",
      "                n - order of the expansion\n",
      "        \"\"\"\n",
      "        self.p = p\n",
      "        self.M = np.array([[np.sum([q * qc['rho'] **(n) * my_sph(-m, n, qc['alpha'], qc['beta']) \n",
      "                                    for q,qc in zip(self.q,self.q_coords)]) for m in range(-n,n+1)] for n in range(p)])\n",
      "    \n",
      "    def rotate(self, theta, alpha, beta, gamma):\n",
      "        \"\"\"\n",
      "        Performs the rigid body rotation of the inertial properties and the rotation of the multipole expansions\n",
      "            inputs: \n",
      "                theta - angle for the kinematic rotations ** not implemented yet (not needed at this time)\n",
      "        \"\"\"\n",
      "        # initialze arrays with zeros\n",
      "        C = np.zeros(3)\n",
      "        d = [[[0.0+1j*0 for m in range(-n,n+1)] for mp in range(-n,n+1)] for n in range(self.p)]\n",
      "        Mp = [[0.0+1j*0 for m in range(-n,n+1)] for n in range(self.p)]\n",
      "        \n",
      "        # also set to zeros\n",
      "        D = d\n",
      "        \n",
      "        # d[0][0][0] and D[0][0][0] are known \n",
      "        d[0][0][0] = 1\n",
      "        D[0][0][0] = 1\n",
      "\n",
      "        Mp[0][0] = self.M[0][0]\n",
      "\n",
      "        # recursive computation of terms of d and D matricies\n",
      "        for n in range(1,p):\n",
      "            for mp in range(-n,n+1):\n",
      "                for m in range(-n,n+1):\n",
      "                    if mp < -(n-1):\n",
      "                        C[0] = np.sin(beta/2)**2*np.sqrt((n+m)*(n+m-1)/((n-mp)*(n-mp-1)))\n",
      "                        C[1] = 2*np.sin(beta/2)*np.cos(beta/2)*np.sqrt((n+m)*(n-m)/((n-mp)*(n-mp-1)))\n",
      "                        C[2] = np.cos(beta/2)**2*np.sqrt((n-m)*(n-m-1)/((n-mp)*(n-mp-1)))\n",
      "                        d[n][mp+n][m+n] = np.sum([C[i-m+1]*d[n-1][mp+1+(n-1)][i+(n-1)] \n",
      "                                                  for i in range(np.max([m-1,-(n-1)]), np.min([m+1,n-1])+1)])\n",
      "                    elif mp > (n-1):\n",
      "                        C[0] = np.cos(beta/2)**2*np.sqrt((n+m)*(n+m-1)/((n+mp)*(n+mp-1)))\n",
      "                        C[1] = -2*np.sin(beta/2)*np.cos(beta/2)*np.sqrt((n+m)*(n-m)/((n+mp)*(n+mp-1)))\n",
      "                        C[2] = np.sin(beta/2)**2*np.sqrt((n-m)*(n-m-1)/((n+mp)*(n+mp-1)))\n",
      "                        d[n][mp+n][m+n] = np.sum([C[i-m+1]*d[n-1][mp-1+(n-1)][i+(n-1)] \n",
      "                                                  for i in range(np.max([m-1,-(n-1)]), np.min([m+1,n-1])+1)])\n",
      "                    else:\n",
      "                        C[0] = np.sin(beta/2)*np.cos(beta/2)*np.sqrt((n+m)*(n+m-1)/((n+mp)*(n-mp)))\n",
      "                        C[1] = (np.cos(beta/2)**2-np.sin(beta/2))*np.sqrt((n-m)*(n+m)/((n-mp)))\n",
      "                        C[2] = -np.sin(beta/2)*np.cos(beta/2)*np.sqrt((n-m)*(n-m+1)/((n-mp)*(n+mp)))\n",
      "                        d[n][mp+n][m+n] = np.sum([C[i-m+1]*d[n-1][mp+(n-1)][i+(n-1)] \n",
      "                                                  for i in range(np.max([m-1,-(n-1)]), np.min([m+1,n-1])+1)])\n",
      "                    D[n][mp+n][m+n] = np.exp(1j*m*gamma)*d[n][mp+n][m+n]*np.exp(1j*m*alpha)\n",
      "                Mp[n][mp+n] = np.dot(D[n][mp+n],self.M[n])\n",
      "        self.M = Mp\n",
      "    \n",
      "    def potential(self, rp):\n",
      "        \"\"\"\n",
      "        This function computes the couloumb potential due to a charged body at a particluar point in space.\n",
      "            inputs:\n",
      "                loc - spherical coordinates of the point of interest\n",
      "            outputs:\n",
      "                Phi - potential\n",
      "        \"\"\"\n",
      "        rp = rp[0]\n",
      "        Phi = np.sum([np.sum([self.M[n][m+n]/rp['rho']**(n+1)*my_sph(m, n, rp['alpha'], rp['beta']) \\\n",
      "                              for m in range(-n,n+1)]) for n in range(self.p)])\n",
      "        return Phi"
     ],
     "language": "python",
     "metadata": {},
     "outputs": [],
     "prompt_number": 5
    },
    {
     "cell_type": "markdown",
     "metadata": {},
     "source": [
      "##Evaluate Potential from Multipole Expansion and Check Agaist Exact Solution"
     ]
    },
    {
     "cell_type": "markdown",
     "metadata": {},
     "source": [
      "####Transform cartesian coordinates to spherical"
     ]
    },
    {
     "cell_type": "code",
     "collapsed": false,
     "input": [
      "# Convert the coordinates of each system to spherical\n",
      "def cart_to_sph(r):\n",
      "    \"\"\"\n",
      "    Converts from cartesian coords to spherical\n",
      "    inputs:  \n",
      "        r_c   - matrix of cartesian particle coordinates, r_c[i] = [xi yi zi]\n",
      "        r_sph - martis of spherical particle cooridnates, r_sph[i] = [rho_i alpha_i beta_i]\n",
      "    \"\"\"\n",
      "    # Define this quantity since it is used multiple times\n",
      "    r01 = r[:,0]**2 + r[:,1]**2\n",
      "    \n",
      "    # initialize the new vector \n",
      "    r_sph = np.empty(r.shape)\n",
      "    \n",
      "    # compute new vector quantities\n",
      "    r_sph[:,0] = np.sqrt(r01 + r[:,2]**2)\n",
      "    r_sph[:,1] = np.arctan2(np.sqrt(r01), r[:,2]) # for elevation angle defined from Z-axis down\n",
      "    r_sph[:,2] = np.arctan2(r[:,1], r[:,0])\n",
      "    \n",
      "    # return new spherical coords dictionary\n",
      "    r_sph = [dict(zip(['rho','alpha','beta'], r)) for r in r_sph]\n",
      "    return r_sph\n",
      "\n",
      "# Transform coordinates of point of interest\n",
      "rp_sph = cart_to_sph(np.array([rp]))\n",
      "\n",
      "# Transform coordinates of charge locations\n",
      "rq_sph_a = cart_to_sph(np.array(list(rq_a.values())))\n",
      "rq_sph_b = cart_to_sph(np.array(list(rq_b.values())))\n",
      "rq_sph_c = cart_to_sph(np.array(list(rq_c.values())))"
     ],
     "language": "python",
     "metadata": {},
     "outputs": [],
     "prompt_number": 6
    },
    {
     "cell_type": "markdown",
     "metadata": {},
     "source": [
      "###Create a charged rigid body for each configuration"
     ]
    },
    {
     "cell_type": "code",
     "collapsed": false,
     "input": [
      "# Create a charged body for system A\n",
      "bodyA = ChargedBody(q, rq_sph_a, 1)\n",
      "bodyB = ChargedBody(q, rq_sph_b, 2)\n",
      "bodyC = ChargedBody(q, rq_sph_c, 3)"
     ],
     "language": "python",
     "metadata": {},
     "outputs": [],
     "prompt_number": 7
    },
    {
     "cell_type": "markdown",
     "metadata": {},
     "source": [
      "####Compute Multipole Expansions"
     ]
    },
    {
     "cell_type": "code",
     "collapsed": false,
     "input": [
      "# Form p = 3 Multipole Expansions\n",
      "p = 2\n",
      "bodyA.mul_exp(p)\n",
      "bodyB.mul_exp(p)\n",
      "bodyC.mul_exp(p)\n",
      "# [print('bodyA.M['+repr(n)+'] = [%s]' % ', '.join(map(str, [\"{0:.3f}\".format(M) for M in bodyA.M[n]]))) for n in range(p)]\n",
      "# print()\n",
      "# [print('bodyC.M['+repr(n)+'] = [%s]' % ', '.join(map(str, [\"{0:.3f}\".format(M) for M in bodyC.M[n]]))) for n in range(p)]"
     ],
     "language": "python",
     "metadata": {},
     "outputs": [],
     "prompt_number": 8
    },
    {
     "cell_type": "markdown",
     "metadata": {},
     "source": [
      "####Evaluate Potential at test point for all configurations"
     ]
    },
    {
     "cell_type": "code",
     "collapsed": false,
     "input": [
      "# Evaluate Potential at a point [r theta phi] for body A\n",
      "PhiA = bodyA.potential(rp_sph)\n",
      "PhiB = bodyB.potential(rp_sph)\n",
      "PhiC = bodyC.potential(rp_sph)\n",
      "print(\"Potential (via M.E.) of System A at point 'p' = \",PhiA.real)\n",
      "print(\"Potential (via M.E.) of System B at point 'p' = \",PhiB.real)\n",
      "print(\"Potential (via M.E.) of System C at point 'p' = \",PhiC.real)"
     ],
     "language": "python",
     "metadata": {},
     "outputs": [
      {
       "output_type": "stream",
       "stream": "stdout",
       "text": [
        "Potential (via M.E.) of System A at point 'p' =  0.25\n",
        "Potential (via M.E.) of System B at point 'p' =  0.176776695297\n",
        "Potential (via M.E.) of System C at point 'p' =  -3.06161699787e-17\n"
       ]
      }
     ],
     "prompt_number": 9
    },
    {
     "cell_type": "markdown",
     "metadata": {},
     "source": [
      "####Compute Exact Solution"
     ]
    },
    {
     "cell_type": "code",
     "collapsed": false,
     "input": [
      "VA = np.sum([q/np.linalg.norm(-rp + p) for q,p in zip(q,rq_a.values())])\n",
      "VB = np.sum([q/np.linalg.norm(-rp + p) for q,p in zip(q,rq_b.values())])\n",
      "VC = np.sum([q/np.linalg.norm(-rp + p) for q,p in zip(q,rq_c.values())])\n",
      "print(\"Potential (exact) of System A at point 'p' = \",VA)\n",
      "print(\"Potential (exact) of System B at point 'p' = \",VB)\n",
      "print(\"Potential (exact) of System C at point 'p' = \",VC)"
     ],
     "language": "python",
     "metadata": {},
     "outputs": [
      {
       "output_type": "stream",
       "stream": "stdout",
       "text": [
        "Potential (exact) of System A at point 'p' =  0.266666666667\n",
        "Potential (exact) of System B at point 'p' =  0.173656529206\n",
        "Potential (exact) of System C at point 'p' =  0.0\n"
       ]
      }
     ],
     "prompt_number": 10
    },
    {
     "cell_type": "markdown",
     "metadata": {},
     "source": [
      "###Rotate Rigid Body 'A' from the 'A' configuration to the 'B' configuration in the inertial reference frame and compute the potential and the error"
     ]
    },
    {
     "cell_type": "code",
     "collapsed": false,
     "input": [
      "# Perform a rotation on System A so that it is the same configuration as B \n",
      "alpha = np.pi/4\n",
      "beta = 0\n",
      "gamma = 0\n",
      "bodyA.rotate(0, alpha, beta, gamma)\n",
      "\n",
      "# Evaluate potential of 'A' at 'B'\n",
      "PhiA_B  = bodyA.potential(rp_sph)"
     ],
     "language": "python",
     "metadata": {},
     "outputs": [],
     "prompt_number": 11
    },
    {
     "cell_type": "code",
     "collapsed": false,
     "input": [
      "# Compute error and print results\n",
      "error_exact = np.abs((PhiA_B-VB)/VB)*100\n",
      "error_rot = np.abs((PhiA_B-PhiB)/PhiB)*100\n",
      "\n",
      "print(\"Potential (via M.E.) of System A rot to B evaluated at point 'p' = \",PhiA_B.real)\n",
      "print(\"% Error compared to exact = \",error_exact.real,'%')\n",
      "print(\"% Error compared to potential using M.E. of 'B' = \",error_rot.real)"
     ],
     "language": "python",
     "metadata": {},
     "outputs": [
      {
       "output_type": "stream",
       "stream": "stdout",
       "text": [
        "Potential (via M.E.) of System A rot to B evaluated at point 'p' =  0.176776695297\n",
        "% Error compared to exact =  1.79674562458 %\n",
        "% Error compared to potential using M.E. of 'B' =  4.71027737605e-14\n"
       ]
      }
     ],
     "prompt_number": 12
    },
    {
     "cell_type": "markdown",
     "metadata": {},
     "source": [
      "###Rotate Rigid Body 'A' from the 'B' configuration to the 'C' configuration in the inertial reference frame and compute the potential and the error"
     ]
    },
    {
     "cell_type": "code",
     "collapsed": false,
     "input": [
      "# Perform a rotation on System A so that it is the same configuration as C \n",
      "alpha = np.pi/4\n",
      "beta = 0\n",
      "gamma = 0\n",
      "bodyA.rotate(0, alpha, beta, gamma)\n",
      "\n",
      "# Evaluate potential of 'A' at 'C'\n",
      "PhiA_C  = bodyA.potential(rp_sph)"
     ],
     "language": "python",
     "metadata": {},
     "outputs": [],
     "prompt_number": 13
    },
    {
     "cell_type": "code",
     "collapsed": false,
     "input": [
      "# Compute error and print results\n",
      "# error_exact = np.abs((PhiA_C-VC)/VC)*100\n",
      "# error_rot = np.abs((PhiA_C-PhiC)/PhiC)*100\n",
      "\n",
      "print(\"Potential (via M.E.) of System A rot to B evaluated at point 'p' = \",PhiA_C.real)\n",
      "# print(\"% Error compared to exact = \",error_exact.real)\n",
      "# print(\"% Error compared to potential of M.E. of 'C' = \",error_rot.real)"
     ],
     "language": "python",
     "metadata": {},
     "outputs": [
      {
       "output_type": "stream",
       "stream": "stdout",
       "text": [
        "Potential (via M.E.) of System A rot to B evaluated at point 'p' =  6.98684814458e-17\n"
       ]
      }
     ],
     "prompt_number": 14
    },
    {
     "cell_type": "code",
     "collapsed": false,
     "input": [],
     "language": "python",
     "metadata": {},
     "outputs": [],
     "prompt_number": 14
    }
   ],
   "metadata": {}
  }
 ]
}