{
 "metadata": {
  "name": "",
  "signature": "sha256:eecb156e4aff4b752cc32dc55e4390751d13ca08b437775022997cd0b0295863"
 },
 "nbformat": 3,
 "nbformat_minor": 0,
 "worksheets": [
  {
   "cells": [
    {
     "cell_type": "code",
     "collapsed": false,
     "input": [
      "import numpy as np\n",
      "from algopy import UTPM\n",
      "\n",
      "import matplotlib.pyplot as plt\n",
      "%matplotlib inline"
     ],
     "language": "python",
     "metadata": {},
     "outputs": [
      {
       "ename": "ImportError",
       "evalue": "No module named 'algopy'",
       "output_type": "pyerr",
       "traceback": [
        "\u001b[0;31m---------------------------------------------------------------------------\u001b[0m\n\u001b[0;31mImportError\u001b[0m                               Traceback (most recent call last)",
        "\u001b[0;32m<ipython-input-1-dc7d3ffbbfdb>\u001b[0m in \u001b[0;36m<module>\u001b[0;34m()\u001b[0m\n\u001b[1;32m      1\u001b[0m \u001b[0;32mimport\u001b[0m \u001b[0mnumpy\u001b[0m \u001b[0;32mas\u001b[0m \u001b[0mnp\u001b[0m\u001b[0;34m\u001b[0m\u001b[0m\n\u001b[0;32m----> 2\u001b[0;31m \u001b[0;32mfrom\u001b[0m \u001b[0malgopy\u001b[0m \u001b[0;32mimport\u001b[0m \u001b[0mUTPM\u001b[0m\u001b[0;34m\u001b[0m\u001b[0m\n\u001b[0m\u001b[1;32m      3\u001b[0m \u001b[0;34m\u001b[0m\u001b[0m\n\u001b[1;32m      4\u001b[0m \u001b[0;32mimport\u001b[0m \u001b[0mmatplotlib\u001b[0m\u001b[0;34m.\u001b[0m\u001b[0mpyplot\u001b[0m \u001b[0;32mas\u001b[0m \u001b[0mplt\u001b[0m\u001b[0;34m\u001b[0m\u001b[0m\n\u001b[1;32m      5\u001b[0m \u001b[0mget_ipython\u001b[0m\u001b[0;34m(\u001b[0m\u001b[0;34m)\u001b[0m\u001b[0;34m.\u001b[0m\u001b[0mmagic\u001b[0m\u001b[0;34m(\u001b[0m\u001b[0;34m'matplotlib inline'\u001b[0m\u001b[0;34m)\u001b[0m\u001b[0;34m\u001b[0m\u001b[0m\n",
        "\u001b[0;31mImportError\u001b[0m: No module named 'algopy'"
       ]
      }
     ],
     "prompt_number": 1
    },
    {
     "cell_type": "code",
     "collapsed": false,
     "input": [
      "# Taylor Series Playing Around\n",
      "font = {'family' : 'serif',\n",
      "        'color'  : 'darkred',\n",
      "        'weight' : 'normal',\n",
      "        'size'   : 16,\n",
      "        }\n",
      "\n",
      "# x = np.linspace(-2*np.pi, 2*np.pi, 100)\n",
      "# y = np.cos(x)\n",
      "\n",
      "def f(x):\n",
      "    return np.cos(x)\n",
      "\n",
      "D = 100; P = 1\n",
      "x = UTPM(numpy.zeros((D,P)))\n",
      "x.data[0,0] = 0.3\n",
      "x.data[1,0] = 1\n",
      "\n",
      "y = f(x)\n",
      "\n",
      "zs = np.linspace(-1,2,100)\n",
      "ts = zs -0.3\n",
      "fzs = f(zs)\n",
      "\n",
      "for d in [2,4,10,50,100]:\n",
      "    yzs = np.polyval(y.data[:d,0][::-1],ts)\n",
      "    pyplot.plot(zs,yzs, label='%d\\'th order approx.'%(d-1))\n",
      "    \n",
      "plt.plot([0.3], f([0.3]), 'ro')\n",
      "plt.plot(zs,fzs, 'k.')\n",
      "plt.grid()\n",
      "plt.legend(loc='best')\n",
      "plt.xlabel('x')\n",
      "plt.ylabel('y')\n",
      "plt.savefig(os.path.join(os.path.dirname(os.path.realpath(__file__)),'taylor_approximation.png'))\n",
      "\n",
      "# Tweak spacing to prevent clipping of ylabel\n",
      "plt.subplots_adjust(left=0.15)\n",
      "plt.show()"
     ],
     "language": "python",
     "metadata": {},
     "outputs": []
    },
    {
     "cell_type": "code",
     "collapsed": false,
     "input": [],
     "language": "python",
     "metadata": {},
     "outputs": []
    }
   ],
   "metadata": {}
  }
 ]
}